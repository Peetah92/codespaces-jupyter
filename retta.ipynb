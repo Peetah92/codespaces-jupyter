{
 "cells": [
  {
   "cell_type": "markdown",
   "metadata": {},
   "source": [
    "# Programmazione orientata oggetti\n",
    "\n",
    "Object Oriented Programming"
   ]
  },
  {
   "cell_type": "markdown",
   "metadata": {},
   "source": [
    "## Definizione della classe Retta"
   ]
  },
  {
   "cell_type": "code",
   "execution_count": 49,
   "metadata": {},
   "outputs": [],
   "source": [
    "class RettaDuePunti():\n",
    "\n",
    "    def __init__(self,ax,ay,bx,by):\n",
    "        self.x1=ax\n",
    "        self.y1=ay\n",
    "        self.x2=bx \n",
    "        self.y2=by \n",
    "        self.m=(by-ay)/(bx-ax)\n",
    "        self.q=ay-self.m*ax\n",
    "\n",
    "    def pendenza(self):\n",
    "        return(self.m)\n",
    "    \n",
    "    def ordinata_origine(self):\n",
    "        return(self.q)\n",
    "    \n",
    "    def y(self,x):\n",
    "        y=self.m*x+self.q\n",
    "        return(y)\n",
    "    \n",
    "    def x(self,y):\n",
    "        x=(y-self.q)/self.m\n",
    "        return(x)\n",
    "    \n",
    "    def zero(self):\n",
    "        return(self.x(0))\n",
    "\n",
    "    def area(self,x1,x2):\n",
    "        area=(self.y(x1)+self.y(x2))*(x2-x1)/2\n",
    "        return(area)\n",
    "\n",
    "    \n",
    "    "
   ]
  },
  {
   "cell_type": "markdown",
   "metadata": {},
   "source": [
    "## Creazione di un oggetto"
   ]
  },
  {
   "cell_type": "code",
   "execution_count": 50,
   "metadata": {},
   "outputs": [],
   "source": [
    "r=RettaDuePunti(5,2,4,8)\n",
    "s=RettaDuePunti(-3,1,2,5)"
   ]
  },
  {
   "cell_type": "markdown",
   "metadata": {},
   "source": [
    "## Utilizzazione dell'oggetto"
   ]
  },
  {
   "cell_type": "code",
   "execution_count": 53,
   "metadata": {},
   "outputs": [
    {
     "name": "stdout",
     "output_type": "stream",
     "text": [
      "-6.0\n",
      "32.0\n",
      "2.0\n",
      "5.0\n",
      "5.333333333333333\n",
      "28.0\n",
      "-20.0\n",
      "-16.0\n"
     ]
    }
   ],
   "source": [
    "print(r.pendenza())\n",
    "print(r.ordinata_origine())\n",
    "print(r.y(5))\n",
    "print(r.x(2))\n",
    "print(r.zero())\n",
    "print(r.area(2,4))\n",
    "print(r.area(6,8))\n",
    "print(r.area(4,8))\n",
    "\n"
   ]
  },
  {
   "cell_type": "code",
   "execution_count": 56,
   "metadata": {},
   "outputs": [
    {
     "name": "stdout",
     "output_type": "stream",
     "text": [
      "5.333333333333332\n",
      "-21.333333333333336\n",
      "-16.0\n"
     ]
    }
   ],
   "source": [
    "print(r.area(4,r.zero()))\n",
    "print(r.area(r.zero(),8))\n",
    "print(r.area(4,8))"
   ]
  },
  {
   "cell_type": "code",
   "execution_count": 57,
   "metadata": {},
   "outputs": [
    {
     "data": {
      "text/plain": [
       "18.6"
      ]
     },
     "execution_count": 57,
     "metadata": {},
     "output_type": "execute_result"
    }
   ],
   "source": [
    "s.area(2,5)"
   ]
  }
 ],
 "metadata": {
  "kernelspec": {
   "display_name": "Python 3",
   "language": "python",
   "name": "python3"
  },
  "language_info": {
   "codemirror_mode": {
    "name": "ipython",
    "version": 3
   },
   "file_extension": ".py",
   "mimetype": "text/x-python",
   "name": "python",
   "nbconvert_exporter": "python",
   "pygments_lexer": "ipython3",
   "version": "3.12.1"
  }
 },
 "nbformat": 4,
 "nbformat_minor": 2
}
