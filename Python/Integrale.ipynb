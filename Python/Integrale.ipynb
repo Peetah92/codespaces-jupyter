{
 "cells": [
  {
   "cell_type": "markdown",
   "metadata": {},
   "source": [
    "Inizializzazione"
   ]
  },
  {
   "cell_type": "code",
   "execution_count": 21,
   "metadata": {},
   "outputs": [],
   "source": [
    "import numpy as np  \n",
    "from numpy import pi as pi \n",
    "def f(x):\n",
    "    return(2*x**2-8*x+6)\n"
   ]
  },
  {
   "cell_type": "code",
   "execution_count": 15,
   "metadata": {},
   "outputs": [],
   "source": [
    "def area(x1,x2,n):\n",
    "    A=0\n",
    "    dx=np.abs(x1-x2)/n\n",
    "    A+=f(x1)/2\n",
    "    A+=f(x2)/2\n",
    "    for i in range(n):\n",
    "        A+=f(x1+(i+1)*dx)\n",
    "    A=A*dx\n",
    "    return(A)"
   ]
  },
  {
   "cell_type": "code",
   "execution_count": null,
   "metadata": {},
   "outputs": [],
   "source": []
  },
  {
   "cell_type": "code",
   "execution_count": null,
   "metadata": {},
   "outputs": [],
   "source": []
  },
  {
   "cell_type": "code",
   "execution_count": 23,
   "metadata": {},
   "outputs": [
    {
     "name": "stdout",
     "output_type": "stream",
     "text": [
      "-2.666663999999998\n"
     ]
    }
   ],
   "source": [
    "n=1000\n",
    "x1=1\n",
    "x2=3\n",
    "\n",
    "print(area(x1, x2, n))"
   ]
  }
 ],
 "metadata": {
  "kernelspec": {
   "display_name": "Python 3",
   "language": "python",
   "name": "python3"
  },
  "language_info": {
   "codemirror_mode": {
    "name": "ipython",
    "version": 3
   },
   "file_extension": ".py",
   "mimetype": "text/x-python",
   "name": "python",
   "nbconvert_exporter": "python",
   "pygments_lexer": "ipython3",
   "version": "3.12.1"
  }
 },
 "nbformat": 4,
 "nbformat_minor": 2
}
